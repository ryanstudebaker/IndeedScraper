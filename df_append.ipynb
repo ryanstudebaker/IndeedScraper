{
 "cells": [
  {
   "cell_type": "code",
   "execution_count": 17,
   "id": "154ae05c",
   "metadata": {},
   "outputs": [],
   "source": [
    "import pandas as pd\n",
    "import os"
   ]
  },
  {
   "cell_type": "code",
   "execution_count": 21,
   "id": "5588a2e4",
   "metadata": {},
   "outputs": [
    {
     "name": "stdout",
     "output_type": "stream",
     "text": [
      "(488, 18)\n",
      "(1605, 19)\n",
      "(2186, 19)\n",
      "(2718, 19)\n",
      "(2745, 19)\n",
      "(2852, 19)\n",
      "(3214, 19)\n",
      "(3229, 19)\n"
     ]
    },
    {
     "data": {
      "text/plain": [
       "(2703, 19)"
      ]
     },
     "execution_count": 21,
     "metadata": {},
     "output_type": "execute_result"
    }
   ],
   "source": [
    "df = pd.DataFrame()\n",
    "for file in os.listdir():\n",
    "    if file.endswith('.csv'):\n",
    "        df = df.append(pd.read_csv(file, low_memory=False), ignore_index=True)\n",
    "        print(df.shape)\n",
    "\n",
    "df.drop_duplicates(subset=['jk'], inplace=True, keep='first')\n",
    "\n",
    "df.shape"
   ]
  },
  {
   "cell_type": "code",
   "execution_count": 19,
   "id": "a147320f",
   "metadata": {},
   "outputs": [
    {
     "data": {
      "text/html": [
       "<div>\n",
       "<style scoped>\n",
       "    .dataframe tbody tr th:only-of-type {\n",
       "        vertical-align: middle;\n",
       "    }\n",
       "\n",
       "    .dataframe tbody tr th {\n",
       "        vertical-align: top;\n",
       "    }\n",
       "\n",
       "    .dataframe thead th {\n",
       "        text-align: right;\n",
       "    }\n",
       "</style>\n",
       "<table border=\"1\" class=\"dataframe\">\n",
       "  <thead>\n",
       "    <tr style=\"text-align: right;\">\n",
       "      <th></th>\n",
       "      <th>cmp</th>\n",
       "      <th>city</th>\n",
       "      <th>title</th>\n",
       "    </tr>\n",
       "  </thead>\n",
       "  <tbody>\n",
       "    <tr>\n",
       "      <th>0</th>\n",
       "      <td>FINCITY CONSULANCY SERVICES L.L.C</td>\n",
       "      <td>Los Angeles</td>\n",
       "      <td>Business Operations Manager</td>\n",
       "    </tr>\n",
       "    <tr>\n",
       "      <th>1</th>\n",
       "      <td>Confidential</td>\n",
       "      <td>Carson</td>\n",
       "      <td>Operations Manager - Construction Experience</td>\n",
       "    </tr>\n",
       "    <tr>\n",
       "      <th>2</th>\n",
       "      <td>WINDSHIELD EXPERTS</td>\n",
       "      <td>Los Angeles</td>\n",
       "      <td>Operations Manager</td>\n",
       "    </tr>\n",
       "    <tr>\n",
       "      <th>3</th>\n",
       "      <td>Wags and Walks</td>\n",
       "      <td>Los Angeles</td>\n",
       "      <td>Operations Manager</td>\n",
       "    </tr>\n",
       "    <tr>\n",
       "      <th>4</th>\n",
       "      <td>Confidential</td>\n",
       "      <td>Los Angeles</td>\n",
       "      <td>Operations Manager</td>\n",
       "    </tr>\n",
       "    <tr>\n",
       "      <th>...</th>\n",
       "      <td>...</td>\n",
       "      <td>...</td>\n",
       "      <td>...</td>\n",
       "    </tr>\n",
       "    <tr>\n",
       "      <th>3157</th>\n",
       "      <td>Hill+Knowlton Strategies</td>\n",
       "      <td>Los Angeles</td>\n",
       "      <td>Strategy Analyst</td>\n",
       "    </tr>\n",
       "    <tr>\n",
       "      <th>3162</th>\n",
       "      <td>Warner Bros Careers</td>\n",
       "      <td>Burbank</td>\n",
       "      <td>Sr. Analyst</td>\n",
       "    </tr>\n",
       "    <tr>\n",
       "      <th>3163</th>\n",
       "      <td>The Walt Disney Company (Corporate)</td>\n",
       "      <td>Burbank</td>\n",
       "      <td>Corporate Financial Planning Analyst</td>\n",
       "    </tr>\n",
       "    <tr>\n",
       "      <th>3164</th>\n",
       "      <td>Warner Bros Careers</td>\n",
       "      <td>Century City</td>\n",
       "      <td>Analyst</td>\n",
       "    </tr>\n",
       "    <tr>\n",
       "      <th>3166</th>\n",
       "      <td>Beyond Meat</td>\n",
       "      <td>El Segundo</td>\n",
       "      <td>Analyst</td>\n",
       "    </tr>\n",
       "  </tbody>\n",
       "</table>\n",
       "<p>2645 rows × 3 columns</p>\n",
       "</div>"
      ],
      "text/plain": [
       "                                      cmp          city  \\\n",
       "0       FINCITY CONSULANCY SERVICES L.L.C   Los Angeles   \n",
       "1                            Confidential        Carson   \n",
       "2                      WINDSHIELD EXPERTS   Los Angeles   \n",
       "3                          Wags and Walks   Los Angeles   \n",
       "4                            Confidential   Los Angeles   \n",
       "...                                   ...           ...   \n",
       "3157             Hill+Knowlton Strategies   Los Angeles   \n",
       "3162                  Warner Bros Careers       Burbank   \n",
       "3163  The Walt Disney Company (Corporate)       Burbank   \n",
       "3164                  Warner Bros Careers  Century City   \n",
       "3166                          Beyond Meat    El Segundo   \n",
       "\n",
       "                                             title  \n",
       "0                      Business Operations Manager  \n",
       "1     Operations Manager - Construction Experience  \n",
       "2                               Operations Manager  \n",
       "3                               Operations Manager  \n",
       "4                               Operations Manager  \n",
       "...                                            ...  \n",
       "3157                              Strategy Analyst  \n",
       "3162                                   Sr. Analyst  \n",
       "3163          Corporate Financial Planning Analyst  \n",
       "3164                                       Analyst  \n",
       "3166                                       Analyst  \n",
       "\n",
       "[2645 rows x 3 columns]"
      ]
     },
     "execution_count": 19,
     "metadata": {},
     "output_type": "execute_result"
    }
   ],
   "source": [
    "df[['cmp','city','title']]"
   ]
  },
  {
   "cell_type": "code",
   "execution_count": null,
   "id": "e7b00561",
   "metadata": {},
   "outputs": [],
   "source": []
  }
 ],
 "metadata": {
  "kernelspec": {
   "display_name": "Python 3",
   "language": "python",
   "name": "python3"
  },
  "language_info": {
   "codemirror_mode": {
    "name": "ipython",
    "version": 3
   },
   "file_extension": ".py",
   "mimetype": "text/x-python",
   "name": "python",
   "nbconvert_exporter": "python",
   "pygments_lexer": "ipython3",
   "version": "3.8.10"
  }
 },
 "nbformat": 4,
 "nbformat_minor": 5
}
